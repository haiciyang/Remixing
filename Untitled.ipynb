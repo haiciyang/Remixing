{
 "cells": [
  {
   "cell_type": "code",
   "execution_count": 156,
   "metadata": {},
   "outputs": [],
   "source": [
    "import torch\n",
    "import soundfile as sf\n",
    "import numpy as np\n",
    "import IPython.display as ipd\n",
    "from scipy.io.wavfile import write"
   ]
  },
  {
   "cell_type": "code",
   "execution_count": 239,
   "metadata": {},
   "outputs": [],
   "source": [
    "track = 1\n",
    "ratio = track-1\n",
    "db = '12dB'\n",
    "# instru = ['piano', 'drum', 'bass', 'guitar', 'none']# slakh\n",
    "instru = ['vocal', 'drum', 'bass', 'others', 'none']# musdb\n",
    "# model = ['0417_200733', '0505_120754', '0505_120845'] # slakh\n",
    "model = ['0418_221450', '0505_220715', '0505_220633'] # musdb\n",
    "dataset = 'MUSDB'\n",
    "# aimpath = '{}_track{}_{}_12'.format(dataset, track, instru)"
   ]
  },
  {
   "cell_type": "code",
   "execution_count": 240,
   "metadata": {},
   "outputs": [],
   "source": [
    "# -- n=4 --\n",
    "# Baseline       Prop1       prop1       prop1       Prop2       prop2      prop2\n",
    "#                 1:1         1:4         0:1         1:1         1:4        0:1 \n",
    "# 0417_200733 0505_120648 0505_120754 0421_163115 0505_120551 0505_120845 0422_182403 -- slakh\n",
    "# 0418_221450 0505_220936 0505_220715 0421_163022 0505_221055 0505_220633 0421_163041 -- MUSDB"
   ]
  },
  {
   "cell_type": "code",
   "execution_count": 241,
   "metadata": {},
   "outputs": [],
   "source": [
    "aimpath = 'final_samples/{}_track{}_{}_{}/'.format(dataset, track, instru[ratio], db)"
   ]
  },
  {
   "cell_type": "code",
   "execution_count": 242,
   "metadata": {},
   "outputs": [],
   "source": [
    "datapath = 'eval_results/{}_{}_0516/{}_mixture_{}.pth'.format(model[0],dataset, model[0], track)\n",
    "x = torch.load(datapath)\n",
    "x = x.cpu().data.numpy()\n",
    "# ipd.Audio(x, rate=44100)\n",
    "# print(x.shape)\n",
    "sf.write(aimpath+'original_mix.wav', x/max(abs(x)), 44100, 'PCM_24')\n",
    "# write(aimpath+'original_mix.wav', 44100, x.cpu().data.numpy().astype(np.int16))"
   ]
  },
  {
   "cell_type": "code",
   "execution_count": 243,
   "metadata": {},
   "outputs": [],
   "source": [
    "datapath = 'eval_results/{}_{}_0516/{}_remixture_{}_{}.pth'.format(model[0], dataset,model[0], track,ratio)\n",
    "x = torch.load(datapath)\n",
    "x = x.cpu().data.numpy()\n",
    "sf.write(aimpath+'target_remix.wav', x/max(abs(x)), 44100, 'PCM_24')"
   ]
  },
  {
   "cell_type": "code",
   "execution_count": 244,
   "metadata": {},
   "outputs": [],
   "source": [
    "datapath = 'eval_results/{}_{}_0516/{}_est_remixture_{}_{}.pth'.format(model[0], dataset,model[0],track,ratio)\n",
    "x = torch.load(datapath)\n",
    "x = x.cpu().data.numpy()\n",
    "sf.write(aimpath+'baseline_remix.wav', x/max(abs(x)), 44100, 'PCM_24')"
   ]
  },
  {
   "cell_type": "code",
   "execution_count": 245,
   "metadata": {},
   "outputs": [],
   "source": [
    "datapath = 'eval_results/{}_{}_0516/{}_est_remixture_{}_{}.pth'.format(model[1], dataset,model[1], track,ratio)\n",
    "x = torch.load(datapath)\n",
    "x = x.cpu().data.numpy()\n",
    "sf.write(aimpath+'model1_remix.wav', x/max(abs(x)), 44100, 'PCM_24')"
   ]
  },
  {
   "cell_type": "code",
   "execution_count": 246,
   "metadata": {},
   "outputs": [],
   "source": [
    "datapath = 'eval_results/{}_{}_0516/{}_est_remixture_{}_{}.pth'.format(model[2], dataset,model[2], track,ratio)\n",
    "x = torch.load(datapath)\n",
    "x = x.cpu().data.numpy()\n",
    "sf.write(aimpath+'model2_remix.wav', x/max(abs(x)), 44100, 'PCM_24')"
   ]
  },
  {
   "cell_type": "code",
   "execution_count": null,
   "metadata": {},
   "outputs": [],
   "source": []
  },
  {
   "cell_type": "code",
   "execution_count": null,
   "metadata": {},
   "outputs": [],
   "source": []
  }
 ],
 "metadata": {
  "kernelspec": {
   "display_name": "Python 3",
   "language": "python",
   "name": "python3"
  },
  "language_info": {
   "codemirror_mode": {
    "name": "ipython",
    "version": 3
   },
   "file_extension": ".py",
   "mimetype": "text/x-python",
   "name": "python",
   "nbconvert_exporter": "python",
   "pygments_lexer": "ipython3",
   "version": "3.6.8"
  }
 },
 "nbformat": 4,
 "nbformat_minor": 4
}
