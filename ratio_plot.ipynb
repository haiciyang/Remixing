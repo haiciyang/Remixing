{
 "cells": [
  {
   "cell_type": "code",
   "execution_count": 1,
   "metadata": {},
   "outputs": [],
   "source": [
    "import torch\n",
    "import numpy as np\n",
    "from matplotlib import pyplot as plt\n",
    "from matplotlib import cm\n",
    "plt.style.use(['science', 'ieee', 'bright'])\n",
    "# plt.style.use(['science','ieee'])\n",
    "term = 'scores'"
   ]
  },
  {
   "cell_type": "code",
   "execution_count": 46,
   "metadata": {},
   "outputs": [],
   "source": [
    "adjust = 0\n",
    "# result2 = torch.load('eval_results/0505_120551_Slakh_0510_{}/results.pt'.format(str(adjust)))[term] # prop2 \n",
    "result1 = torch.load('eval_results/0505_120648_Slakh_0510_{}/results.pt'.format(str(adjust)))[term] # prop1\n",
    "# result1 = torch.load('eval_results/0505_120754_Slakh_0510_{}/results.pt'.format(str(adjust)))[term] # prop1\n",
    "result_base = torch.load('eval_results/0417_200733_Slakh_0510_{}/results.pt'.format(str(adjust))) [term]# base"
   ]
  },
  {
   "cell_type": "code",
   "execution_count": 36,
   "metadata": {},
   "outputs": [],
   "source": [
    "adjust = 0\n",
    "result2_m = torch.load('eval_results/0505_221055_MUSDB_0510_{}/results.pt'.format(str(adjust)))[term] # prop2 \n",
    "# result1_m = torch.load('eval_results/0505_220936_MUSDB_0510_{}/results.pt'.format(str(adjust)))[term] # prop1 \n",
    "result_base_m = torch.load('eval_results/0418_221450_MUSDB_0510_{}/results.pt'.format(str(adjust)))[term]# base"
   ]
  },
  {
   "cell_type": "code",
   "execution_count": 47,
   "metadata": {},
   "outputs": [],
   "source": [
    "def proc(result):\n",
    "    \n",
    "    result = np.mean(\n",
    "        np.array(result).reshape(-1, 17), 0)\n",
    "#     assert len(result)==17\n",
    "    \n",
    "    return result\n",
    "def box_proc(result):\n",
    "    \n",
    "    result = np.array(result).reshape(17, -1)\n",
    "    \n",
    "    return list(result)"
   ]
  },
  {
   "cell_type": "code",
   "execution_count": 48,
   "metadata": {},
   "outputs": [],
   "source": [
    "# result2 = proc(result2)\n",
    "result1 = proc(result1)\n",
    "result_base = proc(result_base)\n",
    "# result2_m = proc(result2_m)\n",
    "# result1_m = proc(result1_m)\n",
    "# result_base_m = proc(result_base_m)"
   ]
  },
  {
   "cell_type": "code",
   "execution_count": 49,
   "metadata": {},
   "outputs": [
    {
     "data": {
      "image/png": "[encoded data removed]",
      "text/plain": [
       "<Figure size 432x288 with 1 Axes>"
      ]
     },
     "metadata": {
      "needs_background": "light"
     },
     "output_type": "display_data"
    }
   ],
   "source": [
    "ticks = range(-24, 27, 3)\n",
    "# plt.plot(result2, label='slakh-prop2')\n",
    "plt.plot(result1, label='slakh-prop1')\n",
    "plt.plot(result_base, label='slakh-base')\n",
    "# plt.boxplot(result1, positions=np.array(range(len(result1)))-0.2, widths=0.3)\n",
    "# plt.boxplot(result_base, positions=np.array(range(len(result1)))+0.2, widths=0.3)\n",
    "# plt.plot(result2_m, label='MUSDB-prop2')\n",
    "# plt.plot(result1_m, label='MUSDB-prop1')\n",
    "# plt.plot(result_base_m, label='MUSDB-baseline')\n",
    "plt.legend()\n",
    "plt.xticks(range(17), ticks, fontsize=7)\n",
    "plt.grid(axis='x', linestyle='--', alpha=0.3)\n",
    "plt.show()"
   ]
  },
  {
   "cell_type": "code",
   "execution_count": 42,
   "metadata": {},
   "outputs": [
    {
     "data": {
      "text/plain": [
       "[-24, -21, -18, -15, -12, -9, -6, -3, 0, 3, 6, 9, 12, 15, 18, 21, 24]"
      ]
     },
     "execution_count": 42,
     "metadata": {},
     "output_type": "execute_result"
    }
   ],
   "source": [
    "list(range(-24, 27, 3))"
   ]
  },
  {
   "cell_type": "code",
   "execution_count": null,
   "metadata": {},
   "outputs": [],
   "source": []
  }
 ],
 "metadata": {
  "kernelspec": {
   "display_name": "Python 3",
   "language": "python",
   "name": "python3"
  },
  "language_info": {
   "codemirror_mode": {
    "name": "ipython",
    "version": 3
   },
   "file_extension": ".py",
   "mimetype": "text/x-python",
   "name": "python",
   "nbconvert_exporter": "python",
   "pygments_lexer": "ipython3",
   "version": "3.6.8"
  }
 },
 "nbformat": 4,
 "nbformat_minor": 4
}
