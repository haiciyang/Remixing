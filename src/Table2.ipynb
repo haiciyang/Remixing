{
 "cells": [
  {
   "cell_type": "code",
   "execution_count": 1,
   "metadata": {},
   "outputs": [],
   "source": [
    "import torch\n",
    "import numpy as np"
   ]
  },
  {
   "cell_type": "code",
   "execution_count": 3,
   "metadata": {},
   "outputs": [],
   "source": [
    "names = ['0504_223630', '0509_230425', '0504_223405', '0509_234021', '0504_223710', '0504_223534', '0509_233827']\n",
    "dataset = 'Slakh'\n",
    "date = '0513'\n",
    "numbers = []\n",
    "for n in names:\n",
    "    filename = '../eval_results/{}_{}_{}/results.pt'.format(n, dataset, date)\n",
    "    scores = torch.load(filename)['scores']\n",
    "#     print(type(scores))\n",
    "    mean = round(np.mean(scores), 2)\n",
    "    std = round(np.std(scores), 2)\n",
    "    numbers.append(mean)\n",
    "    numbers.append(std)\n",
    "#     break"
   ]
  },
  {
   "cell_type": "code",
   "execution_count": 5,
   "metadata": {},
   "outputs": [
    {
     "data": {
      "text/plain": [
       "array([ 4.16,  3.18, 11.42,  6.29, 13.81,  8.05, 13.11,  7.86, 11.57,\n",
       "        6.39, 14.04,  8.57, 13.19,  8.28])"
      ]
     },
     "execution_count": 5,
     "metadata": {},
     "output_type": "execute_result"
    }
   ],
   "source": [
    "np.array(numbers)"
   ]
  },
  {
   "cell_type": "code",
   "execution_count": null,
   "metadata": {},
   "outputs": [],
   "source": []
  }
 ],
 "metadata": {
  "kernelspec": {
   "display_name": "Python 3",
   "language": "python",
   "name": "python3"
  },
  "language_info": {
   "codemirror_mode": {
    "name": "ipython",
    "version": 3
   },
   "file_extension": ".py",
   "mimetype": "text/x-python",
   "name": "python",
   "nbconvert_exporter": "python",
   "pygments_lexer": "ipython3",
   "version": "3.6.8"
  }
 },
 "nbformat": 4,
 "nbformat_minor": 4
}
